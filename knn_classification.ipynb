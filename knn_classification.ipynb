{
 "cells": [
  {
   "cell_type": "markdown",
   "id": "220f64e6",
   "metadata": {},
   "source": [
    "### Question 1"
   ]
  },
  {
   "cell_type": "code",
   "execution_count": 35,
   "id": "b1fea7d8",
   "metadata": {},
   "outputs": [
    {
     "name": "stdout",
     "output_type": "stream",
     "text": [
      "29.96\n"
     ]
    }
   ],
   "source": [
    "import numpy as np\n",
    "ages = [13, 45, 22, 25, 46, 21, 15, 16, 25, 52, 16, 35, 70, 35, 25, 36, 19, 20, 22, 25, 30, 33, 33, 20, 35, 35, 40]\n",
    "mean = np.mean(ages)\n",
    "print(mean.round(2))"
   ]
  },
  {
   "cell_type": "code",
   "execution_count": 36,
   "id": "750773a6",
   "metadata": {},
   "outputs": [
    {
     "name": "stdout",
     "output_type": "stream",
     "text": [
      "25.0\n"
     ]
    }
   ],
   "source": [
    "median = np.median(ages)\n",
    "print(median)"
   ]
  },
  {
   "cell_type": "code",
   "execution_count": 37,
   "id": "322019e5",
   "metadata": {},
   "outputs": [
    {
     "name": "stdout",
     "output_type": "stream",
     "text": [
      "0.38596491228070173\n"
     ]
    }
   ],
   "source": [
    "age = 35\n",
    "min_age = min(ages)\n",
    "max_age = max(ages)\n",
    "new_min = 0\n",
    "new_max = 1\n",
    "normalized_age = (age - min_age) / (max_age - min_age)\n",
    "print(normalized_age)"
   ]
  },
  {
   "cell_type": "code",
   "execution_count": 38,
   "id": "85a4b30f",
   "metadata": {},
   "outputs": [
    {
     "data": {
      "image/png": "[encoded data removed]",
      "text/plain": [
       "<Figure size 640x480 with 1 Axes>"
      ]
     },
     "metadata": {},
     "output_type": "display_data"
    }
   ],
   "source": [
    "import matplotlib.pyplot as plt\n",
    "\n",
    "# Define the bins\n",
    "bins = [10, 20, 30, 40, 50, 60, 70]\n",
    "\n",
    "# Plot the histogram\n",
    "plt.hist(ages, bins=bins)\n",
    "\n",
    "# Set the axis labels and title\n",
    "plt.xlabel('Age')\n",
    "plt.ylabel('Count')\n",
    "plt.title('Histogram with Bin Width = 10')\n",
    "\n",
    "# Show the plot\n",
    "plt.show()"
   ]
  },
  {
   "cell_type": "markdown",
   "id": "6d366b8e",
   "metadata": {},
   "source": [
    "### Question 2"
   ]
  },
  {
   "cell_type": "code",
   "execution_count": 19,
   "id": "9c46f846",
   "metadata": {},
   "outputs": [
    {
     "name": "stdout",
     "output_type": "stream",
     "text": [
      "70\n"
     ]
    }
   ],
   "source": [
    "prices = [15, 204, 13, 5, 50, 215, 72, 10, 11, 35, 55, 92]\n",
    "max_price = max(prices)\n",
    "min_price = min(prices)\n",
    "bins = 3\n",
    "width = (max_price - min_price)//bins\n",
    "print(width)"
   ]
  },
  {
   "cell_type": "code",
   "execution_count": 23,
   "id": "2fd16224",
   "metadata": {},
   "outputs": [
    {
     "name": "stdout",
     "output_type": "stream",
     "text": [
      "[75, 145, 215]\n"
     ]
    }
   ],
   "source": [
    "bin_ranges = []\n",
    "for i in range(1, bins+1):\n",
    "    x = min_price + i * width\n",
    "    bin_ranges.append(x)\n",
    "print(bin_ranges)"
   ]
  },
  {
   "cell_type": "code",
   "execution_count": 28,
   "id": "b79fec5b",
   "metadata": {},
   "outputs": [],
   "source": [
    "bin_1, bin_2, bin_3 = [], [], []\n",
    "bin_1 = [price for price in prices if price in range(0, 75)]\n",
    "bin_2 = [price for price in prices if price in range(75, 145)]\n",
    "bin_3 = [price for price in prices if price in range(145, 215+1)]"
   ]
  },
  {
   "cell_type": "code",
   "execution_count": 29,
   "id": "62bdb3d3",
   "metadata": {},
   "outputs": [
    {
     "name": "stdout",
     "output_type": "stream",
     "text": [
      "Bin 1 [15, 13, 5, 50, 72, 10, 11, 35, 55]\n",
      "Bin 2 [92]\n",
      "Bin 3 [204, 215]\n"
     ]
    }
   ],
   "source": [
    "print(f'Bin 1 {bin_1}')\n",
    "print(f'Bin 2 {bin_2}')\n",
    "print(f'Bin 3 {bin_3}')"
   ]
  },
  {
   "cell_type": "code",
   "execution_count": 33,
   "id": "9f2d3f42",
   "metadata": {},
   "outputs": [],
   "source": [
    "nums_per_bin = len(prices)//bins\n",
    "prices.sort()"
   ]
  },
  {
   "cell_type": "code",
   "execution_count": 34,
   "id": "58795d18",
   "metadata": {},
   "outputs": [
    {
     "name": "stdout",
     "output_type": "stream",
     "text": [
      "Bin 1 [5, 10, 11, 13]\n",
      "Bin 2 [15, 35, 50, 55]\n",
      "Bin 3 [72, 92, 204, 215]\n"
     ]
    }
   ],
   "source": [
    "bin_1 = prices[:nums_per_bin]\n",
    "bin_2 = prices[nums_per_bin:2*nums_per_bin]\n",
    "bin_3 = prices[2*nums_per_bin:]\n",
    "print(f'Bin 1 {bin_1}')\n",
    "print(f'Bin 2 {bin_2}')\n",
    "print(f'Bin 3 {bin_3}')\n"
   ]
  },
  {
   "cell_type": "markdown",
   "id": "608ab369",
   "metadata": {},
   "source": [
    "### Question 3"
   ]
  },
  {
   "cell_type": "code",
   "execution_count": 4,
   "id": "4a398145",
   "metadata": {},
   "outputs": [
    {
     "name": "stdout",
     "output_type": "stream",
     "text": [
      "0.8333333333333333\n"
     ]
    }
   ],
   "source": [
    "# tf-idf(t, d) = tf(t, d) * idf(t)\n",
    "import math\n",
    "tf_machine = 1/6\n",
    "idf_machine = math.log(1024/32, 2)\n",
    "tfidf_machine = tf_machine * idf_machine\n",
    "print(tfidf_machine)"
   ]
  },
  {
   "cell_type": "code",
   "execution_count": 6,
   "id": "fd294b2b",
   "metadata": {},
   "outputs": [
    {
     "name": "stdout",
     "output_type": "stream",
     "text": [
      "1.0\n"
     ]
    }
   ],
   "source": [
    "tf_learning = 1/6\n",
    "idf_learning = math.log(1024/16, 2)\n",
    "tfidf_learning = tf_learning * idf_learning\n",
    "print(tfidf_learning)"
   ]
  },
  {
   "cell_type": "code",
   "execution_count": 7,
   "id": "23e11074",
   "metadata": {},
   "outputs": [
    {
     "name": "stdout",
     "output_type": "stream",
     "text": [
      "2.333333333333333\n"
     ]
    }
   ],
   "source": [
    "tf_software = 2/6\n",
    "idf_software = math.log(1024/8, 2)\n",
    "tfidf_software = tf_software * idf_software\n",
    "print(tfidf_software)"
   ]
  },
  {
   "cell_type": "code",
   "execution_count": 8,
   "id": "e3c56e6a",
   "metadata": {},
   "outputs": [
    {
     "name": "stdout",
     "output_type": "stream",
     "text": [
      "0.6666666666666666\n"
     ]
    }
   ],
   "source": [
    "tf_computer = 1/6\n",
    "idf_computer = math.log(1024/64, 2)\n",
    "tfidf_computer = tf_computer * idf_computer\n",
    "print(tfidf_computer)"
   ]
  },
  {
   "cell_type": "code",
   "execution_count": 9,
   "id": "56f3ee15",
   "metadata": {},
   "outputs": [
    {
     "name": "stdout",
     "output_type": "stream",
     "text": [
      "0.0\n"
     ]
    }
   ],
   "source": [
    "tf_robust = 1/6\n",
    "idf_robust = math.log(1024/1024, 2)\n",
    "tfidf_robust = tf_robust * idf_robust\n",
    "print(tfidf_robust)"
   ]
  },
  {
   "cell_type": "code",
   "execution_count": 14,
   "id": "4e276004",
   "metadata": {},
   "outputs": [
    {
     "name": "stdout",
     "output_type": "stream",
     "text": [
      "The TF-IDF weighted term vector is:(0.8333333333333333, 1.0, 2.333333333333333, 0.6666666666666666, 0.0)\n"
     ]
    }
   ],
   "source": [
    "print(f\"The TF-IDF weighted term vector is:({tfidf_machine}, {tfidf_learning}, {tfidf_software}, {tfidf_computer}, {tfidf_robust})\")"
   ]
  },
  {
   "cell_type": "code",
   "execution_count": null,
   "id": "852e3e9d",
   "metadata": {},
   "outputs": [],
   "source": []
  }
 ],
 "metadata": {
  "kernelspec": {
   "display_name": "Python 3 (ipykernel)",
   "language": "python",
   "name": "python3"
  },
  "language_info": {
   "codemirror_mode": {
    "name": "ipython",
    "version": 3
   },
   "file_extension": ".py",
   "mimetype": "text/x-python",
   "name": "python",
   "nbconvert_exporter": "python",
   "pygments_lexer": "ipython3",
   "version": "3.9.13"
  }
 },
 "nbformat": 4,
 "nbformat_minor": 5
}
